{
  "nbformat": 4,
  "nbformat_minor": 0,
  "metadata": {
    "colab": {
      "provenance": []
    },
    "kernelspec": {
      "name": "python3",
      "display_name": "Python 3"
    },
    "language_info": {
      "name": "python"
    }
  },
  "cells": [
    {
      "cell_type": "code",
      "source": [
        "import numpy as np\n",
        "from sklearn.datasets import make_blobs\n",
        "import time\n",
        "from multiprocessing import Pool\n",
        "import matplotlib.pyplot as plt"
      ],
      "metadata": {
        "id": "PUWBBPg9-Z-g"
      },
      "execution_count": 56,
      "outputs": []
    },
    {
      "cell_type": "markdown",
      "source": [
        "# Non-Parallel implementation"
      ],
      "metadata": {
        "id": "Az-TK7kx-VVb"
      }
    },
    {
      "cell_type": "code",
      "execution_count": 57,
      "metadata": {
        "id": "P4m9U-_i-PSf"
      },
      "outputs": [],
      "source": [
        "def generate_data(n_samples=70000, n_features=5, n_clusters=5, random_state=42):\n",
        "    data, labels = make_blobs(\n",
        "        n_samples=n_samples,\n",
        "        n_features=n_features,\n",
        "        centers=n_clusters,\n",
        "        random_state=random_state\n",
        "    )\n",
        "    return data"
      ]
    },
    {
      "cell_type": "code",
      "source": [
        "def initialize_centroids(data, k):\n",
        "    np.random.seed(42)\n",
        "    indices = np.random.choice(data.shape[0], k, replace=False)\n",
        "    return data[indices]"
      ],
      "metadata": {
        "id": "_hGEGDNh-gSl"
      },
      "execution_count": 58,
      "outputs": []
    },
    {
      "cell_type": "code",
      "source": [
        "def assign_clusters(data, centroids):\n",
        "    distances = np.linalg.norm(data[:, np.newaxis] - centroids, axis=2)\n",
        "    return np.argmin(distances, axis=1)"
      ],
      "metadata": {
        "id": "hrZjVFKQ-iK0"
      },
      "execution_count": 59,
      "outputs": []
    },
    {
      "cell_type": "code",
      "source": [
        "def update_centroids(data, labels, k):\n",
        "    new_centroids = np.array([data[labels == i].mean(axis=0) for i in range(k)])\n",
        "    return new_centroids"
      ],
      "metadata": {
        "id": "4GZ3WBEH-kAX"
      },
      "execution_count": 60,
      "outputs": []
    },
    {
      "cell_type": "code",
      "source": [
        "def has_converged(old_centroids, new_centroids, tol=1e-4):\n",
        "    return np.all(np.linalg.norm(new_centroids - old_centroids, axis=1) < tol)"
      ],
      "metadata": {
        "id": "VLquGcSM-l55"
      },
      "execution_count": 61,
      "outputs": []
    },
    {
      "cell_type": "code",
      "source": [
        "def kmeans(data, k, max_iters=100, tol=1e-4):\n",
        "    centroids = initialize_centroids(data, k)\n",
        "    for _ in range(max_iters):\n",
        "        labels = assign_clusters(data, centroids)\n",
        "        new_centroids = update_centroids(data, labels, k)\n",
        "        if has_converged(centroids, new_centroids, tol):\n",
        "            break\n",
        "        centroids = new_centroids\n",
        "    return centroids, labels"
      ],
      "metadata": {
        "id": "m5V6uht8-nnA"
      },
      "execution_count": 62,
      "outputs": []
    },
    {
      "cell_type": "code",
      "source": [
        "data = generate_data()"
      ],
      "metadata": {
        "id": "JlR4u5ZR-psm"
      },
      "execution_count": 63,
      "outputs": []
    },
    {
      "cell_type": "code",
      "source": [
        "num_clusters = 5"
      ],
      "metadata": {
        "id": "Hmzy1vZp-soV"
      },
      "execution_count": 64,
      "outputs": []
    },
    {
      "cell_type": "code",
      "source": [
        "start_time = time.time()\n",
        "centroids, labels = kmeans(data, num_clusters)\n",
        "end_time = time.time()"
      ],
      "metadata": {
        "id": "545Gmvmw-uid"
      },
      "execution_count": 65,
      "outputs": []
    },
    {
      "cell_type": "code",
      "source": [
        "print(f\"Non-parallel k-means completed in {end_time - start_time:.2f} seconds.\")\n",
        "non_parallel = end_time - start_time"
      ],
      "metadata": {
        "colab": {
          "base_uri": "https://localhost:8080/"
        },
        "id": "bCWnj4q5-yJy",
        "outputId": "e1239876-2203-4fd8-c21f-d28f905e74aa"
      },
      "execution_count": 66,
      "outputs": [
        {
          "output_type": "stream",
          "name": "stdout",
          "text": [
            "Non-parallel k-means completed in 3.39 seconds.\n"
          ]
        }
      ]
    },
    {
      "cell_type": "markdown",
      "source": [
        "# Parallel implementation"
      ],
      "metadata": {
        "id": "E7C0Fwhk-zpp"
      }
    },
    {
      "cell_type": "code",
      "source": [
        "def generate_data(n_samples=70000, n_features=5, n_clusters=5, random_state=42):\n",
        "    data, labels = make_blobs(\n",
        "        n_samples=n_samples,\n",
        "        n_features=n_features,\n",
        "        centers=n_clusters,\n",
        "        random_state=random_state\n",
        "    )\n",
        "    return data"
      ],
      "metadata": {
        "id": "SFe60UqNFUgS"
      },
      "execution_count": 67,
      "outputs": []
    },
    {
      "cell_type": "code",
      "source": [
        "def initialize_centroids(data, k):\n",
        "    np.random.seed(42)\n",
        "    indices = np.random.choice(data.shape[0], k, replace=False)\n",
        "    return data[indices]"
      ],
      "metadata": {
        "id": "5SKk761AFYLJ"
      },
      "execution_count": 68,
      "outputs": []
    },
    {
      "cell_type": "code",
      "source": [
        "def parallel_distance_calc(chunk, centroids):\n",
        "    distances = np.linalg.norm(chunk[:, np.newaxis] - centroids, axis=2)\n",
        "    return np.argmin(distances, axis=1)"
      ],
      "metadata": {
        "id": "cwcKbHbfFYil"
      },
      "execution_count": 69,
      "outputs": []
    },
    {
      "cell_type": "code",
      "source": [
        "def assign_clusters_parallel(data, centroids, n_workers=4):\n",
        "    chunk_size = len(data) // n_workers\n",
        "    chunks = [data[i:i + chunk_size] for i in range(0, len(data), chunk_size)]\n",
        "    with Pool(n_workers) as pool:\n",
        "        results = pool.starmap(parallel_distance_calc, [(chunk, centroids) for chunk in chunks])\n",
        "    return np.concatenate(results)"
      ],
      "metadata": {
        "id": "7R8xDz-NFdaT"
      },
      "execution_count": 70,
      "outputs": []
    },
    {
      "cell_type": "code",
      "source": [
        "def compute_partial_sum(chunk, labels_chunk, k, n_features):\n",
        "    partial_sums = np.zeros((k, n_features))\n",
        "    counts = np.zeros(k)\n",
        "    for i in range(k):\n",
        "        cluster_points = chunk[labels_chunk == i]\n",
        "        partial_sums[i] = cluster_points.sum(axis=0)\n",
        "        counts[i] = len(cluster_points)\n",
        "    return partial_sums, counts"
      ],
      "metadata": {
        "id": "_cw3e0_NFfEs"
      },
      "execution_count": 71,
      "outputs": []
    },
    {
      "cell_type": "code",
      "source": [
        "def parallel_centroid_update(data, labels, k, n_workers=4):\n",
        "    n_features = data.shape[1]\n",
        "    chunk_size = len(data) // n_workers\n",
        "    chunks = [(data[i:i + chunk_size], labels[i:i + chunk_size]) for i in range(0, len(data), chunk_size)]\n",
        "    with Pool(n_workers) as pool:\n",
        "        results = pool.starmap(compute_partial_sum, [(chunk, lbls, k, n_features) for chunk, lbls in chunks])\n",
        "    total_sums = np.sum([res[0] for res in results], axis=0)\n",
        "    total_counts = np.sum([res[1] for res in results], axis=0)\n",
        "    return total_sums / total_counts"
      ],
      "metadata": {
        "id": "I1P83yH_GXXJ"
      },
      "execution_count": 72,
      "outputs": []
    },
    {
      "cell_type": "code",
      "source": [
        "def has_converged(old_centroids, new_centroids, tol=1e-4):\n",
        "    return np.all(np.linalg.norm(new_centroids - old_centroids, axis=1) < tol)"
      ],
      "metadata": {
        "id": "XSb-aDCaFhAz"
      },
      "execution_count": 73,
      "outputs": []
    },
    {
      "cell_type": "code",
      "source": [
        "def kmeans_parallel(data, k, max_iters=100, tol=1e-4, n_workers=4):\n",
        "    centroids = initialize_centroids(data, k)\n",
        "    for _ in range(max_iters):\n",
        "        labels = assign_clusters_parallel(data, centroids, n_workers)\n",
        "        new_centroids = parallel_centroid_update(data, labels, k, n_workers)\n",
        "        if has_converged(centroids, new_centroids, tol):\n",
        "            break\n",
        "        centroids = new_centroids\n",
        "    return centroids, labels"
      ],
      "metadata": {
        "id": "UFrjIRFkFnvX"
      },
      "execution_count": 74,
      "outputs": []
    },
    {
      "cell_type": "code",
      "source": [
        "data = generate_data()"
      ],
      "metadata": {
        "id": "zbvqT64gFqwv"
      },
      "execution_count": 75,
      "outputs": []
    },
    {
      "cell_type": "code",
      "source": [
        "num_clusters = 5\n",
        "n_workers_list = [1, 2, 4, 8]\n",
        "linear_runtime = end_time - start_time"
      ],
      "metadata": {
        "id": "TvkXxQicFtoX"
      },
      "execution_count": 76,
      "outputs": []
    },
    {
      "cell_type": "code",
      "source": [
        "parallel_runtimes = []\n",
        "speedups = []"
      ],
      "metadata": {
        "id": "SODJFd6fF0Lq"
      },
      "execution_count": 77,
      "outputs": []
    },
    {
      "cell_type": "code",
      "source": [
        "for n_workers in n_workers_list:\n",
        "    start_time = time.time()\n",
        "    centroids, labels = kmeans_parallel(data, num_clusters, n_workers=n_workers)\n",
        "    end_time = time.time()\n",
        "    runtime = end_time - start_time\n",
        "    parallel_runtimes.append(runtime)\n",
        "    speedups.append(linear_runtime / runtime)"
      ],
      "metadata": {
        "colab": {
          "base_uri": "https://localhost:8080/"
        },
        "id": "LhpShG0_F1_s",
        "outputId": "1b4a8042-9a07-4a2c-8f8f-d17d79b19f1a"
      },
      "execution_count": 78,
      "outputs": [
        {
          "output_type": "stream",
          "name": "stderr",
          "text": [
            "<ipython-input-72-241f5281ac75>:9: RuntimeWarning: divide by zero encountered in divide\n",
            "  return total_sums / total_counts\n",
            "<ipython-input-72-241f5281ac75>:9: RuntimeWarning: invalid value encountered in divide\n",
            "  return total_sums / total_counts\n"
          ]
        }
      ]
    },
    {
      "cell_type": "code",
      "source": [
        "parallel_runtimes, speedups"
      ],
      "metadata": {
        "colab": {
          "base_uri": "https://localhost:8080/"
        },
        "id": "Gpk8eEJjGcq5",
        "outputId": "af84600f-3407-490b-bd29-bd7bbd22b117"
      },
      "execution_count": 79,
      "outputs": [
        {
          "output_type": "execute_result",
          "data": {
            "text/plain": [
              "([15.627934217453003,\n",
              "  15.890686988830566,\n",
              "  25.99496626853943,\n",
              "  43.63336515426636],\n",
              " [0.21721827231937507,\n",
              "  0.21362656460492074,\n",
              "  0.13058962398979568,\n",
              "  0.07779993265781986])"
            ]
          },
          "metadata": {},
          "execution_count": 79
        }
      ]
    },
    {
      "cell_type": "markdown",
      "source": [
        "# Results"
      ],
      "metadata": {
        "id": "t07p7RnDHkQe"
      }
    },
    {
      "cell_type": "code",
      "source": [
        "plt.figure(figsize=(8, 6))\n",
        "plt.plot(n_workers_list, speedups, marker='o', label='Speedup')\n",
        "plt.axhline(y=non_parallel, color='red', linestyle='--', label='Linear Reference (No Speedup)')\n",
        "plt.title('Speedup vs. Number of Workers')\n",
        "plt.xlabel('Number of Workers')\n",
        "plt.ylabel('Speedup (Linear Runtime / Parallel Runtime)')\n",
        "plt.xticks(n_workers_list)\n",
        "plt.grid()\n",
        "plt.legend()\n",
        "plt.show()"
      ],
      "metadata": {
        "colab": {
          "base_uri": "https://localhost:8080/",
          "height": 564
        },
        "id": "jG1B_rKyHrEE",
        "outputId": "29158f40-e052-4993-e4ba-1c6c230e0c89"
      },
      "execution_count": 80,
      "outputs": [
        {
          "output_type": "display_data",
          "data": {
            "text/plain": [
              "<Figure size 800x600 with 1 Axes>"
            ],
            "image/png": "[encoded data removed]"
          },
          "metadata": {}
        }
      ]
    }
  ]
}